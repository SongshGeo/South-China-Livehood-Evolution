{
 "cells": [
  {
   "cell_type": "code",
   "execution_count": 1,
   "metadata": {
    "execution": {
     "iopub.execute_input": "2024-10-04T10:33:00.278082Z",
     "iopub.status.busy": "2024-10-04T10:33:00.277908Z",
     "iopub.status.idle": "2024-10-04T10:33:01.796758Z",
     "shell.execute_reply": "2024-10-04T10:33:01.796327Z",
     "shell.execute_reply.started": "2024-10-04T10:33:00.278066Z"
    }
   },
   "outputs": [],
   "source": [
    "%load_ext autoreload\n",
    "%autoreload 2\n",
    "%matplotlib inline\n",
    "%config InlineBackend.figure_format = 'retina'\n",
    "from IPython.core.interactiveshell import InteractiveShell\n",
    "\n",
    "InteractiveShell.ast_node_interactivity = \"all\"\n",
    "\n",
    "import pandas as pd\n",
    "import numpy as np\n",
    "from hydra import compose, initialize\n",
    "import os\n",
    "\n",
    "# 加载项目层面的配置\n",
    "with initialize(version_base=None, config_path=\"config\"):\n",
    "    cfg = compose(config_name=\"config\")\n",
    "os.chdir(cfg.root)"
   ]
  },
  {
   "cell_type": "code",
   "execution_count": 2,
   "metadata": {
    "execution": {
     "iopub.execute_input": "2024-10-04T10:26:13.337552Z",
     "iopub.status.busy": "2024-10-04T10:26:13.337009Z",
     "iopub.status.idle": "2024-10-04T10:26:13.370902Z",
     "shell.execute_reply": "2024-10-04T10:26:13.370263Z",
     "shell.execute_reply.started": "2024-10-04T10:26:13.337519Z"
    }
   },
   "outputs": [
    {
     "data": {
      "text/plain": [
       "(np.float64(49.2), np.float64(-32.5))"
      ]
     },
     "execution_count": 2,
     "metadata": {},
     "output_type": "execute_result"
    }
   ],
   "source": [
    "from src.core import Model\n",
    "from src.api import Env\n",
    "\n",
    "\n",
    "model = Model(cfg, nature_class=Env)\n",
    "model.run_model()\n",
    "model.calc_rate(\"farmers\")"
   ]
  },
  {
   "cell_type": "code",
   "execution_count": 3,
   "metadata": {},
   "outputs": [
    {
     "data": {
      "text/plain": [
       "0      0.0\n",
       "1     72.0\n",
       "2     72.0\n",
       "3     72.0\n",
       "4    115.0\n",
       "5    246.0\n",
       "6    203.0\n",
       "7    115.0\n",
       "8    116.0\n",
       "9    116.0\n",
       "Name: num_farmers_n, dtype: float64"
      ]
     },
     "execution_count": 3,
     "metadata": {},
     "output_type": "execute_result"
    }
   ],
   "source": [
    "model.get_data_col(\"farmers\")"
   ]
  },
  {
   "cell_type": "code",
   "execution_count": 4,
   "metadata": {},
   "outputs": [
    {
     "data": {
      "text/plain": [
       "5"
      ]
     },
     "execution_count": 4,
     "metadata": {},
     "output_type": "execute_result"
    }
   ],
   "source": [
    "model.detect_breakpoints(\"farmers\")"
   ]
  },
  {
   "cell_type": "code",
   "execution_count": 5,
   "metadata": {},
   "outputs": [
    {
     "data": {
      "text/plain": [
       "(np.float64(49.2), np.float64(-32.5))"
      ]
     },
     "execution_count": 5,
     "metadata": {},
     "output_type": "execute_result"
    }
   ],
   "source": [
    "model.calc_rate(\"farmers\")"
   ]
  }
 ],
 "metadata": {
  "kernelspec": {
   "display_name": "Python 3 (ipykernel)",
   "language": "python",
   "name": "python3"
  },
  "language_info": {
   "codemirror_mode": {
    "name": "ipython",
    "version": 3
   },
   "file_extension": ".py",
   "mimetype": "text/x-python",
   "name": "python",
   "nbconvert_exporter": "python",
   "pygments_lexer": "ipython3",
   "version": "3.11.2"
  }
 },
 "nbformat": 4,
 "nbformat_minor": 4
}
